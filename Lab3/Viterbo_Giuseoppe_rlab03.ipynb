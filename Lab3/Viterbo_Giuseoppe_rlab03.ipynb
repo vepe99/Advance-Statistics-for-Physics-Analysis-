{
 "cells": [
  {
   "cell_type": "markdown",
   "id": "2b4955aa-ed7e-46eb-9cf5-2e183cc8f845",
   "metadata": {},
   "source": [
    "# Ex.1 \n",
    "* study the binomial inference for a study that reports y = 7 successes in n = 20 independent trial. Assume the following priors:\n",
    "    - a uniform distribution \n",
    "    - a Jeffrey's prior\n",
    "    - a step function:\n",
    "* plot the posterior distribution and summerize the results computing the first two moments\n",
    "* compute a 95% credibility interval and give the results in a summary table\n",
    "* draw the limits on the plot of the posterio distribution\n"
   ]
  },
  {
   "cell_type": "code",
   "execution_count": null,
   "id": "49f32051-b925-4c95-8c91-3de360dacefa",
   "metadata": {},
   "outputs": [],
   "source": [
    "y <- 7   #success\n",
    "n <- 20  #number of trial\n",
    "p <- seq(0,1, length.out=201)\n",
    "\n"
   ]
  }
 ],
 "metadata": {
  "kernelspec": {
   "display_name": "R",
   "language": "R",
   "name": "ir"
  },
  "language_info": {
   "codemirror_mode": "r",
   "file_extension": ".r",
   "mimetype": "text/x-r-source",
   "name": "R",
   "pygments_lexer": "r",
   "version": "4.2.3"
  }
 },
 "nbformat": 4,
 "nbformat_minor": 5
}
